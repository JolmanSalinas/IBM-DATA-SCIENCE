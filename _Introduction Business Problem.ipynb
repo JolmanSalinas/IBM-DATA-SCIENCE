{
 "cells": [
  {
   "cell_type": "markdown",
   "metadata": {},
   "source": [
    "# Thinking of an interesting business"
   ]
  },
  {
   "cell_type": "markdown",
   "metadata": {},
   "source": [
    "## Description of the problem and a discussion of the background"
   ]
  },
  {
   "cell_type": "markdown",
   "metadata": {},
   "source": [
    "An investor dedicated to the creation of emerging businesses and with great knowledge in\n",
    "Entrepreneurship scalability tells me that you are interested in opening a point of sale for fresh vegetables.\n",
    "He asks me to indicate a good place to establish this business and a complete analysis of the place to make a good decision.\n",
    "\n",
    "North York is one of the largest neighborhoods in Toronto, Canada with great potential to create a niche\n",
    "related to fresh vegetables and vegetables of all kinds.\n",
    "An investor is willing to offer this service guaranteeing that quality and freshness are its added value.\n",
    "You want to know where in North York you can place your point of sale.\n",
    "Consider that the best points to make this investment should be close to restaurants of all kinds since they are the ones\n",
    "potential.\n",
    "The investor wants to try to start in this neighborhood and then expand throughout Toronto,\n",
    "That is why it is important that recognition and quality as well as its good location allow it.\n",
    "\n",
    "\n",
    "## Data\n",
    "\n",
    "It was necessary to download the postal codes of Toronto, for this I will use the same font used in the previous week.\n",
    "In the same way, information is extracted from fousquare to know the commerce sites and be able to meet the objective,\n",
    "Also from this source and based on the postal codes the precise geographical location was extracted given the longitude and latitude.\n",
    "\n",
    "A typical request from Foursquare will provide us with the following information:\n",
    "[Postal Code] [Neighborhood(s)] [Neighborhood Latitude] [Neighborhood Longitude] [Venue] [Venue Summary] [Venue Category] [Distance (meter)]\n",
    "[M1L] [Clairlea, Golden Mile, Oakridge] [43.711112] [-79.284577] [Tim Hortons] [This spot is popular] [Coffee Shop] [592.\n",
    "\n",
    "\n",
    "Foursquare is a service based on web location applied to social networks. Geolocation allows you to locate a fixed or mobile device in a geographic location\n",
    "\n",
    "Other important information has to do with the opinions that people give about the network since\n",
    "check-in is marked specific places where one is and in this way it is understood in a better way the tastes\n",
    "and preferences to better locate the business of selling fresh vegetables.\n",
    "\n",
    "Additional research is carried out at the Canadian embassy to find out what people prefer when it comes to food,\n",
    "for this I make consultations in different sources, mainly the surveys carried out by government entities.\n",
    "In the same way, I checked with people who have traveled to Toronto to know their impressions about the possible investment."
   ]
  },
  {
   "cell_type": "code",
   "execution_count": null,
   "metadata": {},
   "outputs": [],
   "source": []
  }
 ],
 "metadata": {
  "kernelspec": {
   "display_name": "Python",
   "language": "python",
   "name": "conda-env-python-py"
  },
  "language_info": {
   "codemirror_mode": {
    "name": "ipython",
    "version": 3
   },
   "file_extension": ".py",
   "mimetype": "text/x-python",
   "name": "python",
   "nbconvert_exporter": "python",
   "pygments_lexer": "ipython3",
   "version": "3.6.7"
  }
 },
 "nbformat": 4,
 "nbformat_minor": 4
}
